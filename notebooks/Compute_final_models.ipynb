{
 "cells": [
  {
   "cell_type": "code",
   "execution_count": null,
   "id": "d0e16e68",
   "metadata": {
    "lines_to_next_cell": 2
   },
   "outputs": [],
   "source": [
    "\"\"\"\n",
    "Created on Sun Oct  6 22:27:26 2024\n",
    "\n",
    "@author: ciaran\n",
    "\n",
    "Code to compute some example final models e.g. median and mean\n",
    "\n",
    "Run separately for DGRF, IGRF and SV\n",
    "\n",
    "\"\"\"\n",
    "\n",
    "# Import the packages and bespoke functions from src folder\n",
    "import os\n",
    "import sys\n",
    "import glob\n",
    "\n",
    "import numpy as np\n",
    "sys.path.append('..')\n",
    "\n",
    "\n",
    "from src import shc_utils as shau\n",
    "\n",
    "field_type = 'sv'   # 'main' or 'sv'\n",
    "candidate = 'SV'    # 'DGRF', 'IGRF' or 'SV'\n",
    "year = '2025-2030'         # For labelling\n",
    "\n",
    "_DIR = os.path.abspath('../data/coefficients/' + candidate + '/*.cof')"
   ]
  },
  {
   "cell_type": "code",
   "execution_count": null,
   "id": "05ee503d",
   "metadata": {
    "lines_to_next_cell": 2
   },
   "outputs": [],
   "source": [
    "\"\"\"\n",
    "\n",
    "Check files are correctly formatted\n",
    "\n",
    "\"\"\"\n",
    "print('List of ' + candidate + ' Candidates \\n ----------- ')\n",
    "files = sorted(glob.glob(_DIR))\n",
    "print(*files, sep='\\n')\n",
    "\n",
    "pass_or_fail = shau.check_cof_file_format(files, field_type)\n",
    "\n",
    "if not(pass_or_fail).all():\n",
    "    raise Exception('A candidate model format is incorrect. Fix it before \\\n",
    "                    continuing')\n",
    "\n",
    "# Load in the coefficients - define the type (main or sv) and the leading\n",
    "# acronym on the filename\n",
    "[coeffs, institute_name, degree] = \\\n",
    "         shau.load_coeffs_to_numpy(sorted(files), field_type, candidate)\n",
    "num_candidates = coeffs.shape[1]"
   ]
  },
  {
   "cell_type": "code",
   "execution_count": null,
   "id": "098351e8",
   "metadata": {
    "title": "models - mean and median"
   },
   "outputs": [],
   "source": [
    "\n",
    "xgrf_mean = np.mean(coeffs,axis=1)\n",
    "\n",
    "# Note median is the average of the two middle values if N is even\n",
    "xgrf_median = np.median(coeffs,axis=1)\n",
    "\n"
   ]
  },
  {
   "cell_type": "code",
   "execution_count": null,
   "id": "1ed2816a",
   "metadata": {
    "title": "Write out files"
   },
   "outputs": [],
   "source": [
    "decimal_places = 2\n",
    "\n",
    "filename = os.path.abspath('../data/coefficients/' + candidate + '/' \n",
    "                           + candidate + '_Mean.cof')\n",
    "header = [candidate + ' ' + year + ' Mean']\n",
    "\n",
    "shau.write_coefficients_to_cof(filename, xgrf_mean, [], \n",
    "                              field_type, ' '.join(header), decimal_places)\n",
    "\n",
    "\n",
    "filename = os.path.abspath('../data/coefficients/' + candidate + '/' \n",
    "                           + candidate +  '_Median.cof')\n",
    "header = [candidate + ' ' + year + ' Median']\n",
    "\n",
    "shau.write_coefficients_to_cof(filename, xgrf_median, [], \n",
    "                              field_type, ' '.join(header), decimal_places)"
   ]
  }
 ],
 "metadata": {
  "jupytext": {
   "cell_metadata_filter": "title,-all",
   "encoding": "# -*- coding: utf-8 -*-",
   "executable": "/usr/bin/env python3",
   "main_language": "python",
   "notebook_metadata_filter": "-all"
  }
 },
 "nbformat": 4,
 "nbformat_minor": 5
}
